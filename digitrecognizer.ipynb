{
 "cells": [
  {
   "cell_type": "code",
   "execution_count": 1,
   "id": "58b55d91",
   "metadata": {},
   "outputs": [],
   "source": [
    "import pandas as pd\n",
    "import numpy as np\n",
    "import cv2\n",
    "import matplotlib.pyplot as plt\n",
    "import os\n",
    "import joblib\n",
    "from sklearn.preprocessing import StandardScaler, LabelEncoder\n",
    "from sklearn.model_selection import train_test_split, GridSearchCV\n",
    "from sklearn.svm import SVC"
   ]
  },
  {
   "cell_type": "code",
   "execution_count": 2,
   "id": "53c02ea7",
   "metadata": {},
   "outputs": [],
   "source": [
    "MODEL_FILE = \"svm_digit_model.joblib\"\n",
    "SCALER_FILE = \"digit_scaler.joblib\"\n",
    "ENCODER_FILE = \"digit_label_encoder.joblib\""
   ]
  },
  {
   "cell_type": "code",
   "execution_count": 7,
   "id": "429db183",
   "metadata": {},
   "outputs": [
    {
     "name": "stderr",
     "output_type": "stream",
     "text": [
      "[ WARN:0@1832.729] global loadsave.cpp:275 findDecoder imread_('out.png'): can't open/read file: check file path/integrity\n"
     ]
    },
    {
     "ename": "error",
     "evalue": "OpenCV(4.12.0) /Users/runner/work/opencv-python/opencv-python/opencv/modules/imgproc/src/resize.cpp:4208: error: (-215:Assertion failed) !ssize.empty() in function 'resize'\n",
     "output_type": "error",
     "traceback": [
      "\u001b[31m---------------------------------------------------------------------------\u001b[39m",
      "\u001b[31merror\u001b[39m                                     Traceback (most recent call last)",
      "\u001b[36mCell\u001b[39m\u001b[36m \u001b[39m\u001b[32mIn[7]\u001b[39m\u001b[32m, line 4\u001b[39m\n\u001b[32m      2\u001b[39m _, thres_hold = cv2.threshold(three_img, \u001b[32m127\u001b[39m, \u001b[32m255\u001b[39m, cv2.THRESH_BINARY)\n\u001b[32m      3\u001b[39m inverted = cv2.bitwise_not(thres_hold)\n\u001b[32m----> \u001b[39m\u001b[32m4\u001b[39m predicting_digit = \u001b[43mcv2\u001b[49m\u001b[43m.\u001b[49m\u001b[43mresize\u001b[49m\u001b[43m(\u001b[49m\u001b[43minverted\u001b[49m\u001b[43m,\u001b[49m\u001b[43m \u001b[49m\u001b[43m(\u001b[49m\u001b[32;43m28\u001b[39;49m\u001b[43m,\u001b[49m\u001b[43m \u001b[49m\u001b[32;43m28\u001b[39;49m\u001b[43m)\u001b[49m\u001b[43m)\u001b[49m\n\u001b[32m      5\u001b[39m flattern_predicting_image = predicting_digit.flatten().reshape(\u001b[32m1\u001b[39m, -\u001b[32m1\u001b[39m)\n",
      "\u001b[31merror\u001b[39m: OpenCV(4.12.0) /Users/runner/work/opencv-python/opencv-python/opencv/modules/imgproc/src/resize.cpp:4208: error: (-215:Assertion failed) !ssize.empty() in function 'resize'\n"
     ]
    }
   ],
   "source": [
    "three_img = cv2.imread('out.png', cv2.IMREAD_GRAYSCALE)\n",
    "_, thres_hold = cv2.threshold(three_img, 127, 255, cv2.THRESH_BINARY)\n",
    "inverted = cv2.bitwise_not(thres_hold)\n",
    "predicting_digit = cv2.resize(inverted, (28, 28))\n",
    "flattern_predicting_image = predicting_digit.flatten().reshape(1, -1)"
   ]
  },
  {
   "cell_type": "code",
   "execution_count": 4,
   "id": "3ce5607a",
   "metadata": {},
   "outputs": [
    {
     "name": "stdout",
     "output_type": "stream",
     "text": [
      "Training model for the first time...\n",
      "Best parameters: {'C': 5, 'gamma': 'auto', 'kernel': 'rbf'}\n",
      "Model, scaler, and encoder saved.\n"
     ]
    }
   ],
   "source": [
    "if os.path.exists(MODEL_FILE) and os.path.exists(SCALER_FILE) and os.path.exists(ENCODER_FILE):\n",
    "    print(\"Loading saved model, scaler, and encoder...\")\n",
    "    svm_model = joblib.load(MODEL_FILE)\n",
    "    standardScaler = joblib.load(SCALER_FILE)\n",
    "    label_encoder = joblib.load(ENCODER_FILE)\n",
    "\n",
    "else:\n",
    "    print(\"Training model for the first time...\")\n",
    "\n",
    "    \n",
    "    train_data = pd.read_csv('train.csv')\n",
    "    X = train_data.drop('label', axis=1)\n",
    "    y = train_data['label']\n",
    "\n",
    "    \n",
    "    label_encoder = LabelEncoder()\n",
    "    y = label_encoder.fit_transform(y)\n",
    "\n",
    "   \n",
    "    X_train, X_test, y_train, y_test = train_test_split(X, y, test_size=0.2, random_state=41)\n",
    "\n",
    "    \n",
    "    standardScaler = StandardScaler()\n",
    "    X_train = standardScaler.fit_transform(X_train)\n",
    "    X_test = standardScaler.transform(X_test)\n",
    "\n",
    "   \n",
    "    param_grid = {\n",
    "        'C': [1, 2, 5],\n",
    "        'kernel': ['rbf'],\n",
    "        'gamma': ['scale', 'auto']\n",
    "    }\n",
    "    grid_search = GridSearchCV(SVC(), param_grid, cv=2, scoring='accuracy', verbose=0)\n",
    "    grid_search.fit(X_train, y_train)\n",
    "\n",
    "    print(f\"Best parameters: {grid_search.best_params_}\")\n",
    "    svm_model = grid_search.best_estimator_\n",
    "\n",
    "    joblib.dump(svm_model, MODEL_FILE)\n",
    "    joblib.dump(standardScaler, SCALER_FILE)\n",
    "    joblib.dump(label_encoder, ENCODER_FILE)\n",
    "    print(\"Model, scaler, and encoder saved.\")\n",
    "\n"
   ]
  },
  {
   "cell_type": "code",
   "execution_count": 9,
   "id": "8c344474",
   "metadata": {},
   "outputs": [
    {
     "name": "stdout",
     "output_type": "stream",
     "text": [
      "Predicted Digit: 2\n"
     ]
    },
    {
     "name": "stderr",
     "output_type": "stream",
     "text": [
      "/Users/aadityakafle/Documents/NEWFOLDER/batch_13/myenv/lib/python3.13/site-packages/sklearn/utils/validation.py:2749: UserWarning: X does not have valid feature names, but StandardScaler was fitted with feature names\n",
      "  warnings.warn(\n"
     ]
    },
    {
     "data": {
      "image/png": "[encoded data removed]",
      "text/plain": [
       "<Figure size 640x480 with 1 Axes>"
      ]
     },
     "metadata": {},
     "output_type": "display_data"
    }
   ],
   "source": [
    "input_scaled = standardScaler.transform(flattern_predicting_image)\n",
    "pred_encoded = svm_model.predict(input_scaled)\n",
    "predicted_label = label_encoder.inverse_transform(pred_encoded)\n",
    "print(\"Predicted Digit:\", predicted_label[0])\n",
    "\n",
    "plt.imshow(predicting_digit, cmap='gray')\n",
    "plt.title(f\"Predicted: {predicted_label[0]}\")\n",
    "plt.show()"
   ]
  },
  {
   "cell_type": "code",
   "execution_count": null,
   "id": "9a61ec4a",
   "metadata": {},
   "outputs": [],
   "source": []
  }
 ],
 "metadata": {
  "kernelspec": {
   "display_name": "myenv",
   "language": "python",
   "name": "python3"
  },
  "language_info": {
   "codemirror_mode": {
    "name": "ipython",
    "version": 3
   },
   "file_extension": ".py",
   "mimetype": "text/x-python",
   "name": "python",
   "nbconvert_exporter": "python",
   "pygments_lexer": "ipython3",
   "version": "3.13.5"
  }
 },
 "nbformat": 4,
 "nbformat_minor": 5
}
